{
 "cells": [
  {
   "cell_type": "markdown",
   "id": "f2e9a310",
   "metadata": {},
   "source": [
    "## Calculating Limits Numerically \n",
    "### Let f(x) = 2x3 − 4x + 1 and let g(x) =( ex − 1)/x"
   ]
  },
  {
   "cell_type": "markdown",
   "id": "20fcdf37",
   "metadata": {},
   "source": [
    "#### (a) Use Python code to evaluate the function f at appropriate values to calculate limx→3 f(x). Hint: Evaluate f at values closer and closer to 3 and see what value the outputs get close to.\n"
   ]
  },
  {
   "cell_type": "code",
   "execution_count": 81,
   "id": "ed0a4cea",
   "metadata": {},
   "outputs": [
    {
     "name": "stdout",
     "output_type": "stream",
     "text": [
      "As x approches to 3 the limit of f(3) is: 41\n"
     ]
    }
   ],
   "source": [
    "def f(x):\n",
    "   \n",
    "    z = (2 * x**3)-(4 * x + 1)\n",
    "    print(\"As x approches to 3 the limit of f(3) is:\" , z)\n",
    "\n",
    "f(3)"
   ]
  },
  {
   "cell_type": "markdown",
   "id": "799f6339",
   "metadata": {},
   "source": [
    "#### b) Use Python code to evaluate the function g at appropriate values to calculate limx→0 g(x). \n"
   ]
  },
  {
   "cell_type": "code",
   "execution_count": 82,
   "id": "e355ac20",
   "metadata": {},
   "outputs": [
    {
     "name": "stdout",
     "output_type": "stream",
     "text": [
      "As x approches to 0 the limit of g(0) is : 1\n"
     ]
    }
   ],
   "source": [
    "import math\n",
    "from sympy import *\n",
    "def g():\n",
    "    x = symbols('x')\n",
    "    f = limit (((exp(x)-1)/x),x,0)\n",
    "    print ('As x approches to 0 the limit of g(0) is :', f)\n",
    "g()"
   ]
  },
  {
   "cell_type": "markdown",
   "id": "0ab8aadc",
   "metadata": {},
   "source": [
    "#### (c) Could the limits in parts (a) and (b) be calculated by plugging in the value where the limit is taken into the function? Explain. What does this mean in terms of continuity?\n"
   ]
  },
  {
   "cell_type": "markdown",
   "id": "86fd4a50",
   "metadata": {},
   "source": [
    "In the part a we can directly plug in the value to calculate the limit as it does not have 0 in the denominator but for the part b when we plug in the value it becomes 0/0 which is undefined so it could solve by LHopital's rule which is taking the derivative of numerator and denominator. f(x) at 3 is a continuous function as it is defined and f(3) = limit of f(x), as it approaches to 3. g(x) at 0, is undefined hence it is not a continuous function."
   ]
  },
  {
   "cell_type": "markdown",
   "id": "57f0b348",
   "metadata": {},
   "source": [
    "## Average Rate of Change\n",
    "####   The formula for the average rate of change of a function f between two values a and b is given by Average Rate of Change = f(b) − f(a) / b − a. Create a Python function that takes in a mathematical function, e.g., f(x) = 3x^2 and two numbers a and b and returns the average rate of change of the function between a and b."
   ]
  },
  {
   "cell_type": "code",
   "execution_count": 84,
   "id": "d357bb2d",
   "metadata": {},
   "outputs": [
    {
     "name": "stdout",
     "output_type": "stream",
     "text": [
      "enter 1 number;3\n",
      "enter 2 number;4\n",
      "x**2\n",
      "x**2\n",
      "-7.0\n"
     ]
    }
   ],
   "source": [
    "a = int(input(\"enter 1 number;\" ))\n",
    "b = int(input(\"enter 2 number;\" ))\n",
    "f = lambda x:eval(input())\n",
    "y = f(a)\n",
    "z = f(b)\n",
    "r = (z-y)/(a-b) # Average Rate of Change = f(b) − f(a) / b − a\n",
    "print(r)"
   ]
  },
  {
   "cell_type": "markdown",
   "id": "1d308288",
   "metadata": {},
   "source": [
    "## Average Rate of Change to Instantaneous Rate of Change\n",
    "### A baseball is dropped from a tall cliff. Neglecting air resistance, the distance traveled by the baseball in meters after t seconds is given by the function f(t) = 4.9t^2."
   ]
  },
  {
   "cell_type": "markdown",
   "id": "d34c18a1",
   "metadata": {},
   "source": [
    "#### (a) Find the average speed (average rate of change of distance) of the baseball between 5 and 6 seconds."
   ]
  },
  {
   "cell_type": "code",
   "execution_count": 85,
   "id": "d1353e8f",
   "metadata": {},
   "outputs": [
    {
     "name": "stdout",
     "output_type": "stream",
     "text": [
      "122.50000000000001\n",
      "176.4\n"
     ]
    },
    {
     "data": {
      "text/plain": [
       "53.900000000000006"
      ]
     },
     "execution_count": 85,
     "metadata": {},
     "output_type": "execute_result"
    }
   ],
   "source": [
    "a = 5\n",
    "b = 6\n",
    "# create def funtion for f(t) = 4.9t^2.\n",
    "def avg(t):\n",
    "        f = 4.9*t**2\n",
    "        print(f)\n",
    "avg(a)\n",
    "avg(b)\n",
    "arc =(176.4 - 122.5)/(b-a) # Average Rate of Change = f(b) − f(a) / b − a\n",
    "arc\n"
   ]
  },
  {
   "cell_type": "markdown",
   "id": "624f50d1",
   "metadata": {},
   "source": [
    "#### (b) Find the average speed (average rate of change of distance) of the baseball between 5 and 5.5 seconds."
   ]
  },
  {
   "cell_type": "code",
   "execution_count": 86,
   "id": "2e7eb0f6",
   "metadata": {},
   "outputs": [
    {
     "name": "stdout",
     "output_type": "stream",
     "text": [
      "122.50000000000001\n",
      "148.22500000000002\n"
     ]
    },
    {
     "data": {
      "text/plain": [
       "51.39999999999998"
      ]
     },
     "execution_count": 86,
     "metadata": {},
     "output_type": "execute_result"
    }
   ],
   "source": [
    "# call avg func \n",
    "avg(5) \n",
    "avg(5.5)\n",
    "arc = (148.2-122.5)/(5.5-5)\n",
    "arc\n"
   ]
  },
  {
   "cell_type": "markdown",
   "id": "dfa0e713",
   "metadata": {},
   "source": [
    "#### (c) Find the average speed (average rate of change of distance) of the baseball between 5 and 5.1 seconds"
   ]
  },
  {
   "cell_type": "code",
   "execution_count": 87,
   "id": "12315f14",
   "metadata": {},
   "outputs": [
    {
     "name": "stdout",
     "output_type": "stream",
     "text": [
      "127.449\n"
     ]
    },
    {
     "data": {
      "text/plain": [
       "49.000000000000234"
      ]
     },
     "execution_count": 87,
     "metadata": {},
     "output_type": "execute_result"
    }
   ],
   "source": [
    "avg(5.1)\n",
    "arc = (127.4 - 122.5)/(5.1 - 5)\n",
    "arc"
   ]
  },
  {
   "cell_type": "markdown",
   "id": "a364efbe",
   "metadata": {},
   "source": [
    "#### (d) What is the instantaneous speed of the baseball at t = 5 seconds? Hint: You might want to do a few more calculations similar to those done in parts (a) - (c)."
   ]
  },
  {
   "cell_type": "code",
   "execution_count": 88,
   "id": "00e4adc4",
   "metadata": {},
   "outputs": [
    {
     "name": "stdout",
     "output_type": "stream",
     "text": [
      "122.50000000000001\n"
     ]
    }
   ],
   "source": [
    "avg(5)"
   ]
  },
  {
   "cell_type": "markdown",
   "id": "fce4d6ae",
   "metadata": {},
   "source": [
    "#### (e) Find the derivative of f. Hint: The derivative of a quadratic function f(x) = ax2 + bx + c is given by f '(x) = 2ax + b.\n"
   ]
  },
  {
   "cell_type": "code",
   "execution_count": 89,
   "id": "af143906",
   "metadata": {},
   "outputs": [
    {
     "data": {
      "text/latex": [
       "$\\displaystyle 9.8 t$"
      ],
      "text/plain": [
       "9.8*t"
      ]
     },
     "execution_count": 89,
     "metadata": {},
     "output_type": "execute_result"
    }
   ],
   "source": [
    "# using sympy to perform derivative\n",
    "from sympy import *\n",
    "t = symbols('t') # Symbol() function's argument is a string containing symbol which can be assigned to a variable.\n",
    "f = 4.9 * (t**2)\n",
    "y = diff(f,t,)# diff(function, variable)\n",
    "y"
   ]
  },
  {
   "cell_type": "markdown",
   "id": "fea5c7bd",
   "metadata": {},
   "source": [
    "#### (f) Evaluate the derivative of f at t = 5. How does this value compare to the value found in part (d)?Explain what is happening.\n"
   ]
  },
  {
   "cell_type": "code",
   "execution_count": 90,
   "id": "39700a30",
   "metadata": {},
   "outputs": [
    {
     "data": {
      "text/plain": [
       "49.0"
      ]
     },
     "execution_count": 90,
     "metadata": {},
     "output_type": "execute_result"
    }
   ],
   "source": [
    "y = 9.8 *(5)\n",
    "y"
   ]
  },
  {
   "cell_type": "markdown",
   "id": "a0124d2f",
   "metadata": {},
   "source": [
    "### Calculating and Interpreting Partial Derivatives\n",
    "A multivariate linear model is trained to predict the selling price of a particular used car model. The linearmodel predicts the selling price (P) in US dollars, using its current condition (C) on a scale of 1 − 10 andthe age of the car in years (Y ). The model is given by P = 16, 000 + 2, 400C − 1, 800Y ."
   ]
  },
  {
   "cell_type": "markdown",
   "id": "503f2165",
   "metadata": {},
   "source": [
    "#### (a) What is this model’s predicted selling price of a 5-year old car with a condition rating 8?"
   ]
  },
  {
   "cell_type": "code",
   "execution_count": 91,
   "id": "e9505852",
   "metadata": {},
   "outputs": [
    {
     "data": {
      "text/plain": [
       "26200"
      ]
     },
     "execution_count": 91,
     "metadata": {},
     "output_type": "execute_result"
    }
   ],
   "source": [
    "# function to predict selling price\n",
    "def  predict(c,y):\n",
    "    return 16000 + (2400 * c) - (1800 * y)\n",
    "predict(8,5)\n",
    "\n",
    "    \n"
   ]
  },
  {
   "cell_type": "markdown",
   "id": "903a8021",
   "metadata": {},
   "source": [
    "#### (b) Find ∂P/∂C and interpret this value"
   ]
  },
  {
   "cell_type": "code",
   "execution_count": 98,
   "id": "de4b32cd",
   "metadata": {},
   "outputs": [
    {
     "data": {
      "text/latex": [
       "$\\displaystyle 2400$"
      ],
      "text/plain": [
       "2400"
      ]
     },
     "execution_count": 98,
     "metadata": {},
     "output_type": "execute_result"
    }
   ],
   "source": [
    "# delta P / delta C\n",
    "P,C,Y = symbols('P C Y')\n",
    "\n",
    "P = 16000 + (2400 * C) - (1800 * Y)\n",
    "Pc = diff(P,C)\n",
    "Pc\n"
   ]
  },
  {
   "cell_type": "code",
   "execution_count": 100,
   "id": "9242588c",
   "metadata": {},
   "outputs": [
    {
     "data": {
      "text/latex": [
       "$\\displaystyle -1800$"
      ],
      "text/plain": [
       "-1800"
      ]
     },
     "execution_count": 100,
     "metadata": {},
     "output_type": "execute_result"
    }
   ],
   "source": [
    "# delta P / delta C\n",
    "Py = diff(P,Y)\n",
    "Py"
   ]
  }
 ],
 "metadata": {
  "kernelspec": {
   "display_name": "Python 3 (ipykernel)",
   "language": "python",
   "name": "python3"
  },
  "language_info": {
   "codemirror_mode": {
    "name": "ipython",
    "version": 3
   },
   "file_extension": ".py",
   "mimetype": "text/x-python",
   "name": "python",
   "nbconvert_exporter": "python",
   "pygments_lexer": "ipython3",
   "version": "3.9.13"
  }
 },
 "nbformat": 4,
 "nbformat_minor": 5
}
